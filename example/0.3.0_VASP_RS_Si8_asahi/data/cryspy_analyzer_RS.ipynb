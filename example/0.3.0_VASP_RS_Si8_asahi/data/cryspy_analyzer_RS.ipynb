{
 "cells": [
  {
   "cell_type": "markdown",
   "metadata": {},
   "source": [
    "# CrySPY analyzer for RS"
   ]
  },
  {
   "cell_type": "code",
   "execution_count": 1,
   "metadata": {
    "collapsed": true
   },
   "outputs": [],
   "source": [
    "#---------- for python2\n",
    "from __future__ import print_function"
   ]
  },
  {
   "cell_type": "code",
   "execution_count": 2,
   "metadata": {
    "collapsed": true
   },
   "outputs": [],
   "source": [
    "#---------- import\n",
    "%matplotlib inline\n",
    "import matplotlib.pyplot as plt\n",
    "import numpy as np\n",
    "import pandas as pd\n",
    "import pickle"
   ]
  },
  {
   "cell_type": "code",
   "execution_count": 3,
   "metadata": {
    "collapsed": true
   },
   "outputs": [],
   "source": [
    "#---------- setting for plot\n",
    "plt.rcParams['pdf.fonttype'] = 42 # Type42はpdfにフォント埋め込み可能"
   ]
  },
  {
   "cell_type": "code",
   "execution_count": 4,
   "metadata": {
    "collapsed": true
   },
   "outputs": [],
   "source": [
    "#---------- If you don't use seaborn, comment out this cell\n",
    "import seaborn as sns\n",
    "sns.set_style('darkgrid', {'axes.edgecolor': 'black', 'axes.linewidth': 1.0})\n",
    "sns.set_context('talk', font_scale=1.5)\n",
    "#sns.set_palette('deep')\n",
    "sns.set_palette(\"dark\")"
   ]
  },
  {
   "cell_type": "markdown",
   "metadata": {},
   "source": [
    "## Data"
   ]
  },
  {
   "cell_type": "code",
   "execution_count": 5,
   "metadata": {
    "collapsed": false
   },
   "outputs": [],
   "source": [
    "def load_rslt():\n",
    "    with open('./pkl_data/rslt_data.pkl', 'rb') as rdata:\n",
    "        rslt_data = pickle.load(rdata)\n",
    "    return rslt_data"
   ]
  },
  {
   "cell_type": "code",
   "execution_count": 6,
   "metadata": {
    "collapsed": false
   },
   "outputs": [
    {
     "data": {
      "text/html": [
       "<div>\n",
       "<table border=\"1\" class=\"dataframe\">\n",
       "  <thead>\n",
       "    <tr style=\"text-align: right;\">\n",
       "      <th></th>\n",
       "      <th>Struc_ID</th>\n",
       "      <th>Spg_num</th>\n",
       "      <th>Spg_sym</th>\n",
       "      <th>Spg_num_opt</th>\n",
       "      <th>Spg_sym_opt</th>\n",
       "      <th>Energy</th>\n",
       "      <th>Magmom</th>\n",
       "      <th>Opt</th>\n",
       "    </tr>\n",
       "  </thead>\n",
       "  <tbody>\n",
       "    <tr>\n",
       "      <th>13</th>\n",
       "      <td>13</td>\n",
       "      <td>92</td>\n",
       "      <td>P4_12_12</td>\n",
       "      <td>227</td>\n",
       "      <td>Fd-3m</td>\n",
       "      <td>-43.3714</td>\n",
       "      <td>NaN</td>\n",
       "      <td>done</td>\n",
       "    </tr>\n",
       "    <tr>\n",
       "      <th>6</th>\n",
       "      <td>3</td>\n",
       "      <td>194</td>\n",
       "      <td>P6_3/mmc</td>\n",
       "      <td>194</td>\n",
       "      <td>P6_3/mmc</td>\n",
       "      <td>-43.3402</td>\n",
       "      <td>NaN</td>\n",
       "      <td>done</td>\n",
       "    </tr>\n",
       "    <tr>\n",
       "      <th>14</th>\n",
       "      <td>14</td>\n",
       "      <td>229</td>\n",
       "      <td>Im-3m</td>\n",
       "      <td>229</td>\n",
       "      <td>Im-3m</td>\n",
       "      <td>-40.7942</td>\n",
       "      <td>NaN</td>\n",
       "      <td>done</td>\n",
       "    </tr>\n",
       "    <tr>\n",
       "      <th>17</th>\n",
       "      <td>17</td>\n",
       "      <td>79</td>\n",
       "      <td>I4</td>\n",
       "      <td>97</td>\n",
       "      <td>I422</td>\n",
       "      <td>-40.7119</td>\n",
       "      <td>NaN</td>\n",
       "      <td>done</td>\n",
       "    </tr>\n",
       "    <tr>\n",
       "      <th>7</th>\n",
       "      <td>4</td>\n",
       "      <td>139</td>\n",
       "      <td>I4/mmm</td>\n",
       "      <td>221</td>\n",
       "      <td>Pm-3m</td>\n",
       "      <td>-40.6634</td>\n",
       "      <td>NaN</td>\n",
       "      <td>done</td>\n",
       "    </tr>\n",
       "    <tr>\n",
       "      <th>8</th>\n",
       "      <td>5</td>\n",
       "      <td>205</td>\n",
       "      <td>Pa3</td>\n",
       "      <td>221</td>\n",
       "      <td>Pm-3m</td>\n",
       "      <td>-40.6576</td>\n",
       "      <td>NaN</td>\n",
       "      <td>done</td>\n",
       "    </tr>\n",
       "    <tr>\n",
       "      <th>10</th>\n",
       "      <td>8</td>\n",
       "      <td>34</td>\n",
       "      <td>Pnn2</td>\n",
       "      <td>136</td>\n",
       "      <td>P4_2/mnm</td>\n",
       "      <td>-40.5641</td>\n",
       "      <td>NaN</td>\n",
       "      <td>done</td>\n",
       "    </tr>\n",
       "    <tr>\n",
       "      <th>15</th>\n",
       "      <td>15</td>\n",
       "      <td>42</td>\n",
       "      <td>Fmm2</td>\n",
       "      <td>140</td>\n",
       "      <td>I4/mcm</td>\n",
       "      <td>-40.4593</td>\n",
       "      <td>NaN</td>\n",
       "      <td>done</td>\n",
       "    </tr>\n",
       "    <tr>\n",
       "      <th>16</th>\n",
       "      <td>16</td>\n",
       "      <td>70</td>\n",
       "      <td>Fddd</td>\n",
       "      <td>70</td>\n",
       "      <td>Fddd</td>\n",
       "      <td>-39.8497</td>\n",
       "      <td>NaN</td>\n",
       "      <td>done</td>\n",
       "    </tr>\n",
       "    <tr>\n",
       "      <th>11</th>\n",
       "      <td>10</td>\n",
       "      <td>139</td>\n",
       "      <td>I4/mmm</td>\n",
       "      <td>139</td>\n",
       "      <td>I4/mmm</td>\n",
       "      <td>-39.5391</td>\n",
       "      <td>NaN</td>\n",
       "      <td>done</td>\n",
       "    </tr>\n",
       "  </tbody>\n",
       "</table>\n",
       "</div>"
      ],
      "text/plain": [
       "    Struc_ID  Spg_num   Spg_sym  Spg_num_opt Spg_sym_opt   Energy Magmom   Opt\n",
       "13        13       92  P4_12_12          227       Fd-3m -43.3714    NaN  done\n",
       "6          3      194  P6_3/mmc          194    P6_3/mmc -43.3402    NaN  done\n",
       "14        14      229     Im-3m          229       Im-3m -40.7942    NaN  done\n",
       "17        17       79        I4           97        I422 -40.7119    NaN  done\n",
       "7          4      139    I4/mmm          221       Pm-3m -40.6634    NaN  done\n",
       "8          5      205       Pa3          221       Pm-3m -40.6576    NaN  done\n",
       "10         8       34      Pnn2          136    P4_2/mnm -40.5641    NaN  done\n",
       "15        15       42      Fmm2          140      I4/mcm -40.4593    NaN  done\n",
       "16        16       70      Fddd           70        Fddd -39.8497    NaN  done\n",
       "11        10      139    I4/mmm          139      I4/mmm -39.5391    NaN  done"
      ]
     },
     "execution_count": 6,
     "metadata": {},
     "output_type": "execute_result"
    }
   ],
   "source": [
    "rslt_data = load_rslt()\n",
    "\n",
    "#---------- sort by ID\n",
    "#rslt_data.head(10)\n",
    "\n",
    "#---------- sort by Energy\n",
    "rslt_data.sort_values(by=['Energy']).head(10)"
   ]
  },
  {
   "cell_type": "code",
   "execution_count": 7,
   "metadata": {
    "collapsed": false
   },
   "outputs": [
    {
     "name": "stdout",
     "output_type": "stream",
     "text": [
      "Number of data: 20\n",
      "Success: 17\n",
      "Error: 3\n",
      "Emin: -43.371357 eV\n"
     ]
    }
   ],
   "source": [
    "#---------- Number of structures\n",
    "ndata = len(rslt_data)\n",
    "print('Number of data: {}'.format(ndata))\n",
    "\n",
    "#---------- check success and error\n",
    "nsuccess = rslt_data['Energy'].count()\n",
    "nerror = ndata - nsuccess\n",
    "print('Success: {}'.format(nsuccess))\n",
    "print('Error: {}'.format(nerror))\n",
    "\n",
    "#---------- minimum\n",
    "Emin = rslt_data['Energy'].min()\n",
    "print('Emin: {} eV'.format(Emin))\n",
    "\n",
    "#---------- magmom (absolute value)\n",
    "magmom = np.abs(rslt_data['Magmom'])\n",
    "magmax = magmom.max()"
   ]
  },
  {
   "cell_type": "markdown",
   "metadata": {},
   "source": [
    "## Energy"
   ]
  },
  {
   "cell_type": "code",
   "execution_count": 10,
   "metadata": {
    "collapsed": false
   },
   "outputs": [
    {
     "data": {
      "image/png": "[encoded data removed]",
      "text/plain": [
       "<matplotlib.figure.Figure at 0x10b690890>"
      ]
     },
     "metadata": {},
     "output_type": "display_data"
    }
   ],
   "source": [
    "#---------- axis\n",
    "plt.xlim([0, ndata+2])\n",
    "plt.ylim([-1, 10])\n",
    "\n",
    "#---------- hline at zero\n",
    "plt.hlines(0.0, 0, 5000, 'k', '--')\n",
    "\n",
    "#---------- plot\n",
    "plt.plot(rslt_data['Struc_ID'],  rslt_data['Energy'] - Emin, 'ob', ms=15, mew=1.5, alpha=0.5)\n",
    "\n",
    "#---------- title and label\n",
    "plt.title('Random search for Si$_{8}$')\n",
    "plt.xlabel('Number of trials')\n",
    "plt.ylabel('Energy (eV/cell)')\n",
    "\n",
    "#---------- save figure\n",
    "#plt.savefig('Si8_RS.png', bbox_inches='tight')\n",
    "#plt.savefig('Si8_RS.png', bbox_inches='tight', dpi=300)    # high dpi\n",
    "#plt.savefig('Si8_RS.pdf', bbox_inches='tight', dpi=300)    # high dpi"
   ]
  },
  {
   "cell_type": "markdown",
   "metadata": {},
   "source": [
    "## Energy vs Magmom"
   ]
  },
  {
   "cell_type": "code",
   "execution_count": null,
   "metadata": {
    "collapsed": false,
    "scrolled": false
   },
   "outputs": [],
   "source": [
    "#---------- plot\n",
    "plt.xlim([0, magmax+2])\n",
    "plt.ylim([-5, 30])\n",
    "\n",
    "plt.plot(magmom, rslt_data['Energy'] - Emin, 'ob', ms=15, mew=1.5, alpha=0.5)\n",
    "\n",
    "#---------- title and label\n",
    "plt.title('Random search for Y$_2$Co$_{17}$')\n",
    "plt.xlabel('Magnetic moment ($\\mu_\\mathrm{B}$/cell)')\n",
    "plt.ylabel('Energy (eV/cell)')\n",
    "\n",
    "#---------- save figure\n",
    "#plt.savefig('Y2Co17_E_mag.png', bbox_inches='tight')\n",
    "#plt.savefig('Y2Co17_E_mag.pdf', bbox_inches='tight', dpi=300)    # high dpi\n",
    "#plt.savefig('Y2Co17_E_mag.png', bbox_inches='tight', dpi=300)    # high dpi"
   ]
  }
 ],
 "metadata": {
  "anaconda-cloud": {},
  "kernelspec": {
   "display_name": "Python [default]",
   "language": "python",
   "name": "python2"
  },
  "language_info": {
   "codemirror_mode": {
    "name": "ipython",
    "version": 2
   },
   "file_extension": ".py",
   "mimetype": "text/x-python",
   "name": "python",
   "nbconvert_exporter": "python",
   "pygments_lexer": "ipython2",
   "version": "2.7.12"
  }
 },
 "nbformat": 4,
 "nbformat_minor": 0
}
