{
 "cells": [
  {
   "cell_type": "markdown",
   "metadata": {},
   "source": [
    "# CSPY analyzer"
   ]
  },
  {
   "cell_type": "code",
   "execution_count": 1,
   "metadata": {
    "collapsed": true
   },
   "outputs": [],
   "source": [
    "#---------- for python2\n",
    "from __future__ import print_function"
   ]
  },
  {
   "cell_type": "code",
   "execution_count": 2,
   "metadata": {
    "collapsed": true
   },
   "outputs": [],
   "source": [
    "#---------- import\n",
    "%matplotlib inline\n",
    "import matplotlib.pyplot as plt\n",
    "import numpy as np\n",
    "import pandas as pd\n",
    "import pickle"
   ]
  },
  {
   "cell_type": "code",
   "execution_count": 3,
   "metadata": {
    "collapsed": true
   },
   "outputs": [],
   "source": [
    "#---------- setting for plot\n",
    "plt.rcParams['pdf.fonttype'] = 42 # Type42はpdfにフォント埋め込み可能"
   ]
  },
  {
   "cell_type": "code",
   "execution_count": 4,
   "metadata": {
    "collapsed": true
   },
   "outputs": [],
   "source": [
    "#---------- If you don't use seaborn, comment out this cell\n",
    "import seaborn as sns\n",
    "sns.set_style('darkgrid', {'axes.edgecolor': 'black', 'axes.linewidth': 1.0})\n",
    "sns.set_context('talk', font_scale=1.5)\n",
    "#sns.set_palette('deep')\n",
    "sns.set_palette(\"dark\")"
   ]
  },
  {
   "cell_type": "markdown",
   "metadata": {},
   "source": [
    "## Data"
   ]
  },
  {
   "cell_type": "code",
   "execution_count": 5,
   "metadata": {
    "collapsed": false
   },
   "outputs": [],
   "source": [
    "def load_rslt():\n",
    "    with open('./pkl_data/rslt_data.pkl', 'rb') as rdata:\n",
    "        rslt_data = pickle.load(rdata)\n",
    "    return rslt_data"
   ]
  },
  {
   "cell_type": "code",
   "execution_count": 6,
   "metadata": {
    "collapsed": false
   },
   "outputs": [
    {
     "data": {
      "text/html": [
       "<div>\n",
       "<table border=\"1\" class=\"dataframe\">\n",
       "  <thead>\n",
       "    <tr style=\"text-align: right;\">\n",
       "      <th></th>\n",
       "      <th>Struc_ID</th>\n",
       "      <th>Spg_num</th>\n",
       "      <th>Spg_sym</th>\n",
       "      <th>Spg_num_opt</th>\n",
       "      <th>Spg_sym_opt</th>\n",
       "      <th>Energy</th>\n",
       "      <th>Magmom</th>\n",
       "      <th>Opt</th>\n",
       "    </tr>\n",
       "  </thead>\n",
       "  <tbody>\n",
       "    <tr>\n",
       "      <th>45</th>\n",
       "      <td>45</td>\n",
       "      <td>33</td>\n",
       "      <td>Pna2_1</td>\n",
       "      <td>227</td>\n",
       "      <td>Fd-3m</td>\n",
       "      <td>-43.378306</td>\n",
       "      <td>NaN</td>\n",
       "      <td>done</td>\n",
       "    </tr>\n",
       "    <tr>\n",
       "      <th>99</th>\n",
       "      <td>99</td>\n",
       "      <td>199</td>\n",
       "      <td>I2_13</td>\n",
       "      <td>206</td>\n",
       "      <td>Ia3</td>\n",
       "      <td>-42.107375</td>\n",
       "      <td>NaN</td>\n",
       "      <td>done</td>\n",
       "    </tr>\n",
       "    <tr>\n",
       "      <th>72</th>\n",
       "      <td>71</td>\n",
       "      <td>82</td>\n",
       "      <td>I-4</td>\n",
       "      <td>88</td>\n",
       "      <td>I4_1/a</td>\n",
       "      <td>-42.058120</td>\n",
       "      <td>NaN</td>\n",
       "      <td>done</td>\n",
       "    </tr>\n",
       "    <tr>\n",
       "      <th>65</th>\n",
       "      <td>63</td>\n",
       "      <td>220</td>\n",
       "      <td>I-43d</td>\n",
       "      <td>230</td>\n",
       "      <td>Ia-3d</td>\n",
       "      <td>-41.125565</td>\n",
       "      <td>NaN</td>\n",
       "      <td>done</td>\n",
       "    </tr>\n",
       "    <tr>\n",
       "      <th>18</th>\n",
       "      <td>18</td>\n",
       "      <td>220</td>\n",
       "      <td>I-43d</td>\n",
       "      <td>230</td>\n",
       "      <td>Ia-3d</td>\n",
       "      <td>-41.124710</td>\n",
       "      <td>NaN</td>\n",
       "      <td>done</td>\n",
       "    </tr>\n",
       "    <tr>\n",
       "      <th>27</th>\n",
       "      <td>27</td>\n",
       "      <td>191</td>\n",
       "      <td>P6/mmm</td>\n",
       "      <td>191</td>\n",
       "      <td>P6/mmm</td>\n",
       "      <td>-40.837615</td>\n",
       "      <td>NaN</td>\n",
       "      <td>done</td>\n",
       "    </tr>\n",
       "    <tr>\n",
       "      <th>66</th>\n",
       "      <td>64</td>\n",
       "      <td>217</td>\n",
       "      <td>I-43m</td>\n",
       "      <td>229</td>\n",
       "      <td>Im-3m</td>\n",
       "      <td>-40.794980</td>\n",
       "      <td>NaN</td>\n",
       "      <td>done</td>\n",
       "    </tr>\n",
       "    <tr>\n",
       "      <th>56</th>\n",
       "      <td>56</td>\n",
       "      <td>79</td>\n",
       "      <td>I4</td>\n",
       "      <td>97</td>\n",
       "      <td>I422</td>\n",
       "      <td>-40.714704</td>\n",
       "      <td>NaN</td>\n",
       "      <td>done</td>\n",
       "    </tr>\n",
       "    <tr>\n",
       "      <th>33</th>\n",
       "      <td>32</td>\n",
       "      <td>67</td>\n",
       "      <td>Cmme</td>\n",
       "      <td>191</td>\n",
       "      <td>P6/mmm</td>\n",
       "      <td>-40.687145</td>\n",
       "      <td>NaN</td>\n",
       "      <td>done</td>\n",
       "    </tr>\n",
       "    <tr>\n",
       "      <th>48</th>\n",
       "      <td>48</td>\n",
       "      <td>166</td>\n",
       "      <td>R-3m</td>\n",
       "      <td>221</td>\n",
       "      <td>Pm-3m</td>\n",
       "      <td>-40.669331</td>\n",
       "      <td>NaN</td>\n",
       "      <td>done</td>\n",
       "    </tr>\n",
       "  </tbody>\n",
       "</table>\n",
       "</div>"
      ],
      "text/plain": [
       "    Struc_ID  Spg_num Spg_sym  Spg_num_opt Spg_sym_opt     Energy  Magmom  \\\n",
       "45        45       33  Pna2_1          227       Fd-3m -43.378306     NaN   \n",
       "99        99      199   I2_13          206         Ia3 -42.107375     NaN   \n",
       "72        71       82     I-4           88      I4_1/a -42.058120     NaN   \n",
       "65        63      220   I-43d          230       Ia-3d -41.125565     NaN   \n",
       "18        18      220   I-43d          230       Ia-3d -41.124710     NaN   \n",
       "27        27      191  P6/mmm          191      P6/mmm -40.837615     NaN   \n",
       "66        64      217   I-43m          229       Im-3m -40.794980     NaN   \n",
       "56        56       79      I4           97        I422 -40.714704     NaN   \n",
       "33        32       67    Cmme          191      P6/mmm -40.687145     NaN   \n",
       "48        48      166    R-3m          221       Pm-3m -40.669331     NaN   \n",
       "\n",
       "     Opt  \n",
       "45  done  \n",
       "99  done  \n",
       "72  done  \n",
       "65  done  \n",
       "18  done  \n",
       "27  done  \n",
       "66  done  \n",
       "56  done  \n",
       "33  done  \n",
       "48  done  "
      ]
     },
     "execution_count": 6,
     "metadata": {},
     "output_type": "execute_result"
    }
   ],
   "source": [
    "rslt_data = load_rslt()\n",
    "\n",
    "#---------- sort by ID\n",
    "#rslt_data.head(10)\n",
    "\n",
    "#---------- sort by Energy\n",
    "rslt_data.sort_values(by=['Energy']).head(10)"
   ]
  },
  {
   "cell_type": "code",
   "execution_count": 7,
   "metadata": {
    "collapsed": false
   },
   "outputs": [
    {
     "name": "stdout",
     "output_type": "stream",
     "text": [
      "Number of data: 100\n",
      "Success: 83\n",
      "Error: 17\n",
      "Emin: -43.378306 eV\n"
     ]
    }
   ],
   "source": [
    "#---------- Number of structures\n",
    "ndata = len(rslt_data)\n",
    "print('Number of data: {}'.format(ndata))\n",
    "\n",
    "#---------- check success and error\n",
    "nsuccess = rslt_data['Energy'].count()\n",
    "nerror = ndata - nsuccess\n",
    "print('Success: {}'.format(nsuccess))\n",
    "print('Error: {}'.format(nerror))\n",
    "\n",
    "#---------- minimum\n",
    "Emin = rslt_data['Energy'].min()\n",
    "print('Emin: {} eV'.format(Emin))\n",
    "\n",
    "#---------- magmom (absolute value)\n",
    "magmom = np.abs(rslt_data['Magmom'])\n",
    "magmax = magmom.max()"
   ]
  },
  {
   "cell_type": "markdown",
   "metadata": {},
   "source": [
    "## Energy"
   ]
  },
  {
   "cell_type": "code",
   "execution_count": 8,
   "metadata": {
    "collapsed": false
   },
   "outputs": [
    {
     "data": {
      "text/plain": [
       "<matplotlib.text.Text at 0x110d8a2d0>"
      ]
     },
     "execution_count": 8,
     "metadata": {},
     "output_type": "execute_result"
    },
    {
     "data": {
      "image/png": "[encoded data removed]",
      "text/plain": [
       "<matplotlib.figure.Figure at 0x10da5b350>"
      ]
     },
     "metadata": {},
     "output_type": "display_data"
    }
   ],
   "source": [
    "#---------- axis\n",
    "plt.xlim([0, ndata+2])\n",
    "plt.ylim([-1, 12])\n",
    "\n",
    "#---------- hline at zero\n",
    "plt.hlines(0.0, 0, 5000, 'k', '--')\n",
    "\n",
    "#---------- plot\n",
    "x = np.arange(1, ndata+1)\n",
    "plt.plot(x,  rslt_data['Energy'] - Emin, 'ob', ms=15, mew=1.5, alpha=0.5)\n",
    "\n",
    "#---------- title and label\n",
    "plt.title('Random search for Si$_{8}$')\n",
    "plt.xlabel('Number of trials')\n",
    "plt.ylabel('Energy (eV/cell)')\n",
    "\n",
    "#---------- save figure\n",
    "#plt.savefig('Si8_RS.png', bbox_inches='tight')\n",
    "#plt.savefig('Si8_RS.png', bbox_inches='tight', dpi=300)    # high dpi\n",
    "#plt.savefig('Si8_RS.pdf', bbox_inches='tight', dpi=300)    # high dpi"
   ]
  },
  {
   "cell_type": "markdown",
   "metadata": {},
   "source": [
    "## Energy vs Magmom"
   ]
  },
  {
   "cell_type": "code",
   "execution_count": null,
   "metadata": {
    "collapsed": false,
    "scrolled": false
   },
   "outputs": [],
   "source": [
    "#---------- plot\n",
    "plt.xlim([0, magmax+2])\n",
    "plt.ylim([-5, 30])\n",
    "\n",
    "plt.plot(magmom, rslt_data['Energy'] - Emin, 'ob', ms=15, mew=1, alpha=0.5)\n",
    "\n",
    "#---------- title and label\n",
    "plt.title('Random search for Y$_2$Co$_{17}$')\n",
    "plt.xlabel('Magnetic moment ($\\mu_\\mathrm{B}$/cell)')\n",
    "plt.ylabel('Energy (eV/cell)')\n",
    "\n",
    "#---------- save figure\n",
    "#plt.savefig('Y2Co17_E_mag.png', bbox_inches='tight')\n",
    "#plt.savefig('Y2Co17_E_mag.pdf', bbox_inches='tight', dpi=300)    # high dpi\n",
    "#plt.savefig('Y2Co17_E_mag.png', bbox_inches='tight', dpi=300)    # high dpi"
   ]
  }
 ],
 "metadata": {
  "anaconda-cloud": {},
  "kernelspec": {
   "display_name": "Python [conda root]",
   "language": "python",
   "name": "conda-root-py"
  },
  "language_info": {
   "codemirror_mode": {
    "name": "ipython",
    "version": 2
   },
   "file_extension": ".py",
   "mimetype": "text/x-python",
   "name": "python",
   "nbconvert_exporter": "python",
   "pygments_lexer": "ipython2",
   "version": "2.7.12"
  }
 },
 "nbformat": 4,
 "nbformat_minor": 0
}
