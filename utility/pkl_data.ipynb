{
 "cells": [
  {
   "cell_type": "markdown",
   "metadata": {},
   "source": [
    "# Import"
   ]
  },
  {
   "cell_type": "code",
   "execution_count": null,
   "metadata": {},
   "outputs": [],
   "source": [
    "!pwd"
   ]
  },
  {
   "cell_type": "code",
   "execution_count": null,
   "metadata": {},
   "outputs": [],
   "source": [
    "#---------- for python2\n",
    "from __future__ import print_function\n",
    "from __future__ import division"
   ]
  },
  {
   "cell_type": "code",
   "execution_count": null,
   "metadata": {},
   "outputs": [],
   "source": [
    "#---------- import\n",
    "import gzip\n",
    "import matplotlib.pyplot as plt\n",
    "import numpy as np\n",
    "import pickle"
   ]
  },
  {
   "cell_type": "markdown",
   "metadata": {},
   "source": [
    "# Load function"
   ]
  },
  {
   "cell_type": "code",
   "execution_count": null,
   "metadata": {},
   "outputs": [],
   "source": [
    "def load_data(filename):\n",
    "    with open(filename, 'rb') as f:\n",
    "        return pickle.load(f)"
   ]
  },
  {
   "cell_type": "code",
   "execution_count": null,
   "metadata": {},
   "outputs": [],
   "source": [
    "#  ---------- for gzip\n",
    "def load_data_gz(filename):\n",
    "    with gzip.open(filename, 'rb') as f:\n",
    "        return pickle.load(f)"
   ]
  },
  {
   "cell_type": "markdown",
   "metadata": {},
   "source": [
    "# Structure data"
   ]
  },
  {
   "cell_type": "markdown",
   "metadata": {},
   "source": [
    "## init_struc_data.pkl\n",
    "**init_struc_data**: initial structure data  \n",
    "Type: dict  \n",
    "String form: {0: struc0, 1: struc1, ...}  \n",
    "The keys are structre ID  \n",
    "The values are structure data in pymatgen format  \n",
    "\n",
    "Example: Initial structure data of ID 7\n",
    "``` python\n",
    "init_struc_data[7]\n",
    "```"
   ]
  },
  {
   "cell_type": "code",
   "execution_count": null,
   "metadata": {},
   "outputs": [],
   "source": [
    "init_struc_data = load_data('init_struc_data.pkl')\n",
    "#init_struc_data = load_data_gz('init_struc_data.pkl.gz')"
   ]
  },
  {
   "cell_type": "markdown",
   "metadata": {},
   "source": [
    "## opt_struc_data.pkl\n",
    "**opt_struc_data**: optimized structure data  \n",
    "Type: dict  \n",
    "String form: {0: struc0, 1: struc1, ...}  \n",
    "The keys are structre ID  \n",
    "The values stand for structure data in pymatgen format  \n",
    "\n",
    "Example: Optimized structure data of ID 7\n",
    "``` python\n",
    "opt_struc_data[7]\n",
    "```"
   ]
  },
  {
   "cell_type": "code",
   "execution_count": null,
   "metadata": {},
   "outputs": [],
   "source": [
    "opt_struc_data = load_data('opt_struc_data.pkl')\n",
    "#opt_struc_data = load_data_gz('opt_struc_data.pkl.gz')"
   ]
  },
  {
   "cell_type": "markdown",
   "metadata": {},
   "source": [
    "# rslt_data.pkl\n",
    "**rslt_data**: result data  \n",
    "Type: DataFrame  \n",
    "String form: Struc_ID Spg_num Spg_sym Spg_num_opt Spg_sym_opt Energy Magmom"
   ]
  },
  {
   "cell_type": "code",
   "execution_count": null,
   "metadata": {},
   "outputs": [],
   "source": [
    "rslt_data = load_data('rslt_data.pkl')\n",
    "# ---------- sort by Energy\n",
    "rslt_data.sort_values(by=['Energy']).head(10)"
   ]
  },
  {
   "cell_type": "markdown",
   "metadata": {},
   "source": [
    "# kpt_data.pkl\n",
    "**kpt_data**: k-point data  \n",
    "Type: dict  \n",
    "String form: {0: [[2, ,2 ,2], [4, 4, 4,], [6, 6, 6,], ...], 1: ...}  \n",
    "The keys are structre ID  \n",
    "indicate k-mesh in each stage as list  \n",
    "\n",
    "Example: k-mesh of ID 7 stage 2\n",
    "``` python\n",
    "# kpt_data[ID][stage]\n",
    "# kpt_data[ID][0] <-- stage 1\n",
    "# kpt_data[ID][1] <-- stage 2\n",
    "kpt_data[7][2-1]\n",
    "```"
   ]
  },
  {
   "cell_type": "code",
   "execution_count": null,
   "metadata": {},
   "outputs": [],
   "source": [
    "kpt_data = load_data('kpt_data.pkl')\n",
    "kpt_data[7]"
   ]
  },
  {
   "cell_type": "markdown",
   "metadata": {},
   "source": [
    "# Random Search"
   ]
  },
  {
   "cell_type": "markdown",
   "metadata": {},
   "source": [
    "## RS_id_data.pkl\n",
    "**next_id**: next structure ID to calculate  \n",
    "Type: int  \n",
    "String form: 5  \n",
    "\n",
    "\n",
    "**id_done**: finished structure ID  \n",
    "Type: 1d array  \n",
    "String form: [0 1 2 3 4]  "
   ]
  },
  {
   "cell_type": "code",
   "execution_count": null,
   "metadata": {},
   "outputs": [],
   "source": [
    "next_id, id_done = load_data('RS_id_data.pkl')"
   ]
  },
  {
   "cell_type": "markdown",
   "metadata": {},
   "source": [
    "# Bayesian Optimizaiton"
   ]
  },
  {
   "cell_type": "markdown",
   "metadata": {},
   "source": [
    "## BO_id_data.pkl\n",
    "**gen**: generation  \n",
    "Type: int  \n",
    "String form: 1  \n",
    "\n",
    "**non_error_id**: non-error structure ID  \n",
    "Type: 1d array  \n",
    "String form: [0 1 2 3 4 5 6 7 8 9]  \n",
    "\n",
    "**id_tocalc**: strucgture ID to calculate in the current generation  \n",
    "Type: 1d array  \n",
    "String form: [8 6 4 1 2]\n",
    "\n",
    "**id_done**: finished structure ID  \n",
    "Type: 1d array  \n",
    "String form: [0 9 3 5 7]"
   ]
  },
  {
   "cell_type": "code",
   "execution_count": null,
   "metadata": {},
   "outputs": [],
   "source": [
    "gen, non_error_id, id_to_calc, id_done = load_data('BO_id_data.pkl')"
   ]
  },
  {
   "cell_type": "markdown",
   "metadata": {},
   "source": [
    "## BO_data.pkl"
   ]
  },
  {
   "cell_type": "code",
   "execution_count": null,
   "metadata": {},
   "outputs": [],
   "source": [
    "descriptors, targets = load_data('BO_data.pkl')"
   ]
  },
  {
   "cell_type": "markdown",
   "metadata": {
    "collapsed": true
   },
   "source": [
    "### descriptors\n",
    "**descriptors**: descriptor data  \n",
    "Type: 2d array  \n",
    "String form: [[descriptor array of ID 0], [descriptor array of ID 1], [descriptor array of ID 3], ....]  \n",
    "len(``descriptors``) = len(``non_error_id``)  \n",
    "If your calculation for ID 2 failed, the descriptor data of ID 2 will be deleted like this example.  \n",
    "\n",
    "Example: descriptor of ID 3\n",
    "``` python\n",
    "# descriptors[3] does not always correspond to the data of ID 3! \n",
    "descriptors[np.where(non_error_id == 3)[0][0]]\n",
    "```"
   ]
  },
  {
   "cell_type": "code",
   "execution_count": null,
   "metadata": {},
   "outputs": [],
   "source": [
    "# ---------- descriptor of specified structure ID\n",
    "cID = 3\n",
    "indx = np.where(non_error_id == cID)[0]    # array\n",
    "if len(indx) == 0:\n",
    "    print('No data of structure ID {}'.format(cID))\n",
    "else:\n",
    "    indx = indx[0]    # int\n",
    "    plt.plot(descriptors[indx])    "
   ]
  },
  {
   "cell_type": "markdown",
   "metadata": {},
   "source": [
    "### targets\n",
    "**targets**: target(=energy) data  \n",
    "Type: 1d array\n",
    "String form: [-10.45, -8.789, ....]  \n",
    "len(``targets``) = len(``id_done``)  \n",
    "The order of ID in ``targets`` follows the order of ``id_done``\n",
    "\n",
    "e.g.,  \n",
    "id_done = [7, 3, 0, 1, ...]  \n",
    "targets = [energy of ID 7, energy of ID 3, energy of ID 0, energy of ID 1, ...]  \n",
    "\n",
    "Example: target of ID 3\n",
    "``` python\n",
    "# targets[3] does not correspond to the data of ID 3! \n",
    "targets[np.where(id_done == 3)[0][0]]\n",
    "```"
   ]
  },
  {
   "cell_type": "markdown",
   "metadata": {},
   "source": [
    "# LAQA"
   ]
  },
  {
   "cell_type": "markdown",
   "metadata": {},
   "source": [
    "## LAQA_id_data.pkl\n",
    "**id_to_calc**: strucgture ID to calculate in the current selection  \n",
    "Type: list  \n",
    "String form: [8, 6, 4, 1, 2]\n",
    "\n",
    "**id_select_hist**: history of ID selection  \n",
    "Type: list  \n",
    "String form: [[5, 3, 9, 0, 7], ..., [8, 6, 4, 1, 2]]  \n",
    "[[list of first selection], [list of second selection], ...]\n",
    "\n",
    "**id_done**: finished structure ID  \n",
    "Type: list  \n",
    "String form: [5, 3, 9, 0, 7]  "
   ]
  },
  {
   "cell_type": "code",
   "execution_count": null,
   "metadata": {},
   "outputs": [],
   "source": [
    "id_to_calc, id_select_hist, id_done = load_data('LAQA_id_data.pkl')"
   ]
  },
  {
   "cell_type": "code",
   "execution_count": null,
   "metadata": {},
   "outputs": [],
   "source": [
    "len(id_select_hist)"
   ]
  },
  {
   "cell_type": "markdown",
   "metadata": {},
   "source": [
    "## LAQA_data.pkl"
   ]
  },
  {
   "cell_type": "code",
   "execution_count": null,
   "metadata": {},
   "outputs": [],
   "source": [
    "tot_step_select, LAQA_step, LAQA_struc, LAQA_energy, LAQA_bias, LAQA_score = load_data('LAQA_data.pkl')\n",
    "#tot_step_select, LAQA_step, LAQA_struc, LAQA_energy, LAQA_bias, LAQA_score = load_data_gz('LAQA_data.pkl.gz')"
   ]
  },
  {
   "cell_type": "markdown",
   "metadata": {},
   "source": [
    "### tot_step_select\n",
    "**tot_step_select**: total number of optimization steps in each selection  \n",
    "Type: list  \n",
    "String form: [2000, 200, 200, ...]  \n",
    "len(``tot_step_select``) = len(``id_select_hist``) + 1  \n",
    "``tot_step_select`` includes 0th selection  \n",
    "[0th, 1st, 2nd, ...]  "
   ]
  },
  {
   "cell_type": "code",
   "execution_count": null,
   "metadata": {},
   "outputs": [],
   "source": [
    "# ---------- total number of optimization steps (all steps)\n",
    "print('Total steps: {}'.format(sum(tot_step_select)))\n",
    "# ---------- up to 5 selection. Note that tot_step_select includes 0th selection\n",
    "print('Number of steps up to 5 selection: {}'.format(sum(tot_step_select[:5+1])))"
   ]
  },
  {
   "cell_type": "markdown",
   "metadata": {},
   "source": [
    "### LAQA_step\n",
    "**LAQA_step**: number of optimization steps in each ID  \n",
    "Type: dict  \n",
    "String form: {0: [20, 7], 1:[20, 20, 20, 5], ...}  \n",
    "The keys are structure ID  \n",
    "The values are list of number of optimization steps  \n",
    "\n",
    "Example: list of optimization steps in ID 7\n",
    "``` python\n",
    "LAQA_step[7]\n",
    "```"
   ]
  },
  {
   "cell_type": "code",
   "execution_count": null,
   "metadata": {},
   "outputs": [],
   "source": [
    "print(LAQA_step[7])\n",
    "# ---------- total steps in ID 7\n",
    "print('Total number of optimization steps in ID 7: {}'.format(sum(LAQA_step[7])))"
   ]
  },
  {
   "cell_type": "markdown",
   "metadata": {},
   "source": [
    "### LAQA_struc\n",
    "**LAQA_struc**: list of structure data in each ID  \n",
    "Type: dict  \n",
    "String form: {0: [list of structures], 1:[list of structures], ...}  \n",
    "The keys are structure ID  \n",
    "The values are list of structure data in pymatgen format  \n",
    "len(LAQA_struc[7]) == len(LAQA_step[7])  \n",
    "If the optimization finished, LAQA_struc[7][-1] is equal to opt_struc_data[7]  \n",
    "\n",
    "Example: list of structure data in ID 7\n",
    "``` python\n",
    "LAQA_struc[7]\n",
    "```"
   ]
  },
  {
   "cell_type": "code",
   "execution_count": null,
   "metadata": {},
   "outputs": [],
   "source": [
    "# ---------- latest structure of ID 7\n",
    "print(LAQA_struc[7][-1])"
   ]
  },
  {
   "cell_type": "markdown",
   "metadata": {},
   "source": [
    "### LAQA_energy\n",
    "**LAQA_energy**: list of energy data in each ID  \n",
    "Type: dict  \n",
    "String form: {0: [-3.287, -3.330], 1:[-3.105, -3.194, -3.233, -3.347], ...}  \n",
    "The keys are structure ID  \n",
    "The values are list of energy data  \n",
    "len(LAQA_energy[7]) == len(LAQA_step[7])  \n",
    "\n",
    "Example: list of energy data in ID 7\n",
    "``` python\n",
    "LAQA_energy[7]\n",
    "```"
   ]
  },
  {
   "cell_type": "code",
   "execution_count": null,
   "metadata": {},
   "outputs": [],
   "source": [
    "# ---------- energy list of ID 7\n",
    "print(LAQA_energy[7])\n",
    "# ---------- latest energy of ID 7\n",
    "print(LAQA_energy[7][-1])"
   ]
  },
  {
   "cell_type": "markdown",
   "metadata": {},
   "source": [
    "### LAQA_bias\n",
    "**LAQA_bias**: list of bias data in each ID  \n",
    "Type: dict  \n",
    "String form: {0: [0.059, 0.003], 1:[0.501, 0.210, 0.984, 0.758], ...}  \n",
    "The keys are structure ID  \n",
    "The values are list of bias data  \n",
    "len(LAQA_bias[7]) == len(LAQA_step[7])\n",
    "\n",
    "Example: list of bias data in ID 7\n",
    "``` python\n",
    "LAQA_bias[7]\n",
    "```"
   ]
  },
  {
   "cell_type": "code",
   "execution_count": null,
   "metadata": {},
   "outputs": [],
   "source": [
    "# ---------- bias list of ID 7\n",
    "print(LAQA_bias[7])\n",
    "# ---------- latest bias of ID 7\n",
    "print(LAQA_bias[7][-1])"
   ]
  },
  {
   "cell_type": "markdown",
   "metadata": {},
   "source": [
    "### LAQA_score\n",
    "**LAQA_score**: list of score data in each ID  \n",
    "Type: dict  \n",
    "String form: {0: [inf, 3.346, -inf], 1:[3.606, 3.404, 4.217, -inf], ...}  \n",
    "The keys are structure ID  \n",
    "The values are list of score data  \n",
    "len(LAQA_score[7]) == len(LAQA_step[7]) + 1  \n",
    "``LAQA_score`` includes 0th score (= plus infinity)  \n",
    "If the optimization finished, -inf is appended to the score list  \n",
    "\n",
    "Example: list of score data in ID 7\n",
    "``` python\n",
    "LAQA_score[7]\n",
    "```"
   ]
  },
  {
   "cell_type": "code",
   "execution_count": null,
   "metadata": {},
   "outputs": [],
   "source": [
    "# ---------- score list of ID 7\n",
    "print(LAQA_score[7])\n",
    "# ---------- latest score of ID 7\n",
    "print(LAQA_score[7][-1])"
   ]
  },
  {
   "cell_type": "markdown",
   "metadata": {},
   "source": [
    "# *_step_data.pkl"
   ]
  },
  {
   "cell_type": "markdown",
   "metadata": {},
   "source": [
    "## energy_step_data.pkl\n",
    "**energy_step_data**: energy-step data  \n",
    "Type: dict  \n",
    "String form: {0:  [ [array(stage1, step1), array(stage1, step2), ...], [array(stage2, step1), array(stage2, step2), ...], ... ]}  \n",
    "The keys are structre ID  \n",
    "The values are energy-step array\n",
    "\n",
    "Example: energy of ID 7, stage 2, step 8\n",
    "``` python\n",
    "# energy_step_data[ID][stage][step]\n",
    "# energy_step_data[ID][0] <-- stage 1\n",
    "# energy_step_data[ID][1] <-- stage 2\n",
    "energy_step_data[7][2-1][8-1]\n",
    "```"
   ]
  },
  {
   "cell_type": "code",
   "execution_count": null,
   "metadata": {},
   "outputs": [],
   "source": [
    "#energy_step_data = load_data('energy_step_data.pkl')\n",
    "energy_step_data = load_data_gz('energy_step_data.pkl.gz')"
   ]
  },
  {
   "cell_type": "code",
   "execution_count": null,
   "metadata": {},
   "outputs": [],
   "source": [
    "# ---------- energy-step data of ID 7, stage 2\n",
    "print(energy_step_data[7][2-1])"
   ]
  },
  {
   "cell_type": "markdown",
   "metadata": {},
   "source": [
    "## struc_step_data.pkl\n",
    "**struc_step_data**: structure-step data  \n",
    "Type: dict  \n",
    "String form: {0:  [ [ (stage1, step1), (stage1, step2), ...], [(stage2, step1), (stage2, step2), ...], ...]}  \n",
    "The keys are structre ID  \n",
    "The values are structure-step list\n",
    "\n",
    "Example: structure of ID 7, stage 2, step 8\n",
    "``` python\n",
    "# struc_step_data[ID][stage][step]\n",
    "# struc_step_data[ID][0] <-- stage 1\n",
    "# struc_step_data[ID][1] <-- stage 2\n",
    "sturc_step_data[7][2-1][8-1]\n",
    "```"
   ]
  },
  {
   "cell_type": "code",
   "execution_count": null,
   "metadata": {},
   "outputs": [],
   "source": [
    "#struc_step_data = load_data('struc_step_data.pkl')\n",
    "struc_step_data = load_data_gz('struc_step_data.pkl.gz')"
   ]
  },
  {
   "cell_type": "code",
   "execution_count": null,
   "metadata": {},
   "outputs": [],
   "source": [
    "# ---------- structure-step data of ID 7, stage 2\n",
    "print(struc_step_data[7][2-1])"
   ]
  },
  {
   "cell_type": "markdown",
   "metadata": {},
   "source": [
    "## fs_step_data.pkl"
   ]
  },
  {
   "cell_type": "code",
   "execution_count": null,
   "metadata": {},
   "outputs": [],
   "source": [
    "force_step_data, stress_step_data = load_data_gz('fs_step_data.pkl.gz')"
   ]
  },
  {
   "cell_type": "markdown",
   "metadata": {},
   "source": [
    "### force_step_data\n",
    "**force_step_data**: force-step  data  \n",
    "Type: dict  \n",
    "String form: {0:  [ [array(stage1, step1), array(stage1, step2), ...], [array(stage2, step1), array(stage2, step2), ...], ... ]}  \n",
    "The keys are structre ID  \n",
    "The values are force-step array\n",
    "\n",
    "Example: force of ID 7, stage 2, step 8\n",
    "``` python\n",
    "# force_step_data[ID][stage][step]\n",
    "# force_step_data[ID][0] <-- stage 1\n",
    "# force_step_data[ID][1] <-- stage 2\n",
    "force_step_data[7][2-1][8-1]\n",
    "```"
   ]
  },
  {
   "cell_type": "code",
   "execution_count": null,
   "metadata": {},
   "outputs": [],
   "source": [
    "print(force_step_data[7][2-1][8-1])"
   ]
  },
  {
   "cell_type": "markdown",
   "metadata": {},
   "source": [
    "### stress_step_data\n",
    "**stress_step_data**: stress-step  data  \n",
    "Type: dict  \n",
    "String form: {0:  [ [array(stage1, step1), array(stage1, step2), ...], [array(stage2, step1), array(stage2, step2), ...], ... ]}  \n",
    "The keys are structre ID  \n",
    "The values are stress-step array\n",
    "\n",
    "Example: stress of ID 7, stage 2, step 8\n",
    "``` python\n",
    "# stress_step_data[ID][stage][step]\n",
    "# stress_step_data[ID][0] <-- stage 1\n",
    "# stress_step_data[ID][1] <-- stage 2\n",
    "stress_step_data[7][2-1][8-1]\n",
    "```"
   ]
  },
  {
   "cell_type": "code",
   "execution_count": null,
   "metadata": {},
   "outputs": [],
   "source": [
    "print(stress_step_data[7][2-1][8-1])"
   ]
  }
 ],
 "metadata": {
  "anaconda-cloud": {},
  "kernelspec": {
   "display_name": "Python 2",
   "language": "python",
   "name": "python2"
  },
  "language_info": {
   "codemirror_mode": {
    "name": "ipython",
    "version": 2
   },
   "file_extension": ".py",
   "mimetype": "text/x-python",
   "name": "python",
   "nbconvert_exporter": "python",
   "pygments_lexer": "ipython2",
   "version": "2.7.12"
  },
  "toc": {
   "nav_menu": {
    "height": "225px",
    "width": "252px"
   },
   "number_sections": true,
   "sideBar": true,
   "skip_h1_title": false,
   "toc_cell": false,
   "toc_position": {},
   "toc_section_display": "block",
   "toc_window_display": true
  }
 },
 "nbformat": 4,
 "nbformat_minor": 1
}
