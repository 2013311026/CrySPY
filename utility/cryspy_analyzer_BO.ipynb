{
 "cells": [
  {
   "cell_type": "markdown",
   "metadata": {},
   "source": [
    "# CrySPY analyzer for BO"
   ]
  },
  {
   "cell_type": "code",
   "execution_count": null,
   "metadata": {
    "collapsed": true
   },
   "outputs": [],
   "source": [
    "#---------- for python2\n",
    "from __future__ import print_function"
   ]
  },
  {
   "cell_type": "code",
   "execution_count": null,
   "metadata": {
    "collapsed": true
   },
   "outputs": [],
   "source": [
    "#---------- import\n",
    "%matplotlib inline\n",
    "import matplotlib.pyplot as plt\n",
    "import numpy as np\n",
    "import pandas as pd\n",
    "import pickle"
   ]
  },
  {
   "cell_type": "code",
   "execution_count": null,
   "metadata": {
    "collapsed": true
   },
   "outputs": [],
   "source": [
    "#---------- setting for plot\n",
    "plt.rcParams['pdf.fonttype'] = 42 # Type42はpdfにフォント埋め込み可能"
   ]
  },
  {
   "cell_type": "code",
   "execution_count": null,
   "metadata": {
    "collapsed": true
   },
   "outputs": [],
   "source": [
    "#---------- If you don't use seaborn, comment out this cell\n",
    "import seaborn as sns\n",
    "sns.set_style('darkgrid', {'axes.edgecolor': 'black', 'axes.linewidth': 1.0})\n",
    "sns.set_context('talk', font_scale=1.5)\n",
    "#sns.set_palette('deep')\n",
    "sns.set_palette(\"dark\")"
   ]
  },
  {
   "cell_type": "markdown",
   "metadata": {},
   "source": [
    "## Data"
   ]
  },
  {
   "cell_type": "code",
   "execution_count": null,
   "metadata": {
    "collapsed": true
   },
   "outputs": [],
   "source": [
    "def load_rslt():\n",
    "    with open('./pkl_data/rslt_data.pkl', 'rb') as rdata:\n",
    "        rslt_data = pickle.load(rdata)\n",
    "    return rslt_data"
   ]
  },
  {
   "cell_type": "code",
   "execution_count": null,
   "metadata": {
    "collapsed": false
   },
   "outputs": [],
   "source": [
    "rslt_data = load_rslt()\n",
    "\n",
    "#---------- sort by Generation\n",
    "#rslt_data.head(10)\n",
    "\n",
    "#---------- sort by Energy\n",
    "rslt_data.sort_values(by=['Energy']).head(10)"
   ]
  },
  {
   "cell_type": "code",
   "execution_count": null,
   "metadata": {
    "collapsed": false
   },
   "outputs": [],
   "source": [
    "#---------- Generation\n",
    "gmax = rslt_data['Gen'].max()\n",
    "print('Number of generation: {}'.format(gmax))\n",
    "\n",
    "#---------- Number of structures\n",
    "ndata = len(rslt_data)\n",
    "print('Number of data: {}'.format(ndata))\n",
    "\n",
    "#---------- check success and error\n",
    "nsuccess = rslt_data['Energy'].count()\n",
    "nerror = ndata - nsuccess\n",
    "print('Success: {}'.format(nsuccess))\n",
    "print('Error: {}'.format(nerror))\n",
    "\n",
    "#---------- minimum\n",
    "Emin = rslt_data['Energy'].min()\n",
    "print('Emin: {} eV'.format(Emin))\n",
    "\n",
    "#---------- magmom (absolute value)\n",
    "magmom = np.abs(rslt_data['Magmom'])\n",
    "magmax = magmom.max()"
   ]
  },
  {
   "cell_type": "markdown",
   "metadata": {},
   "source": [
    "## Energy"
   ]
  },
  {
   "cell_type": "code",
   "execution_count": null,
   "metadata": {
    "collapsed": false
   },
   "outputs": [],
   "source": [
    "#---------- axis\n",
    "plt.xlim([0, ndata+2])\n",
    "plt.ylim([-2, 20])\n",
    "\n",
    "#---------- hline at zero\n",
    "plt.hlines(0.0, 0, 5000, 'k', '--')\n",
    "\n",
    "#----------color coded by generation  \n",
    "tx = 0\n",
    "for g in range(1, gmax+1):\n",
    "    gfilter = rslt_data['Gen'] == g\n",
    "    num = len(rslt_data[gfilter])\n",
    "    x = np.arange(1, num+1) + tx\n",
    "    plt.plot(x, rslt_data['Energy'][gfilter] - Emin, 'o', ms=15, mew=1.5, alpha=0.5)\n",
    "    tx += num\n",
    "\n",
    "#---------- title and label\n",
    "plt.title('Bayesian optimizaiton for Si$_{16}$')\n",
    "plt.xlabel('Number of trials')\n",
    "plt.ylabel('Energy (eV/cell)')\n",
    "\n",
    "#---------- save figure\n",
    "#plt.savefig('Si16_BO.png', bbox_inches='tight')\n",
    "#plt.savefig('Si16_BO.pdf', bbox_inches='tight', dpi=300)    # high dpi\n",
    "#plt.savefig('Si16_BO.png', bbox_inches='tight', dpi=300)    # high dpi"
   ]
  },
  {
   "cell_type": "markdown",
   "metadata": {},
   "source": [
    "## Energy vs Magmom"
   ]
  },
  {
   "cell_type": "code",
   "execution_count": null,
   "metadata": {
    "collapsed": false
   },
   "outputs": [],
   "source": [
    "#---------- plot\n",
    "plt.xlim([0, magmax+2])\n",
    "plt.ylim([-5, 30])\n",
    "\n",
    "plt.plot(magmom, rslt_data['Energy'] - Emin, 'ob', ms=15, mew=1.5, alpha=0.5)\n",
    "\n",
    "#---------- title and label\n",
    "plt.title('Random search for Y$_2$Co$_{17}$')\n",
    "plt.xlabel('Magnetic moment ($\\mu_\\mathrm{B}$/cell)')\n",
    "plt.ylabel('Energy (eV/cell)')\n",
    "\n",
    "#---------- save figure\n",
    "#plt.savefig('Y2Co17_E_mag.png', bbox_inches='tight')\n",
    "#plt.savefig('Y2Co17_E_mag.pdf', bbox_inches='tight', dpi=300)    # high dpi\n",
    "#plt.savefig('Y2Co17_E_mag.png', bbox_inches='tight', dpi=300)    # high dpi"
   ]
  }
 ],
 "metadata": {
  "anaconda-cloud": {},
  "kernelspec": {
   "display_name": "Python 2",
   "language": "python",
   "name": "python2"
  },
  "language_info": {
   "codemirror_mode": {
    "name": "ipython",
    "version": 2
   },
   "file_extension": ".py",
   "mimetype": "text/x-python",
   "name": "python",
   "nbconvert_exporter": "python",
   "pygments_lexer": "ipython2",
   "version": "2.7.12"
  }
 },
 "nbformat": 4,
 "nbformat_minor": 0
}
