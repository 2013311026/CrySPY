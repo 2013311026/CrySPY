{
 "cells": [
  {
   "cell_type": "markdown",
   "metadata": {},
   "source": [
    "# CrySPY analyzer for RS"
   ]
  },
  {
   "cell_type": "code",
   "execution_count": null,
   "metadata": {
    "collapsed": false
   },
   "outputs": [],
   "source": [
    "!pwd"
   ]
  },
  {
   "cell_type": "code",
   "execution_count": null,
   "metadata": {
    "collapsed": true
   },
   "outputs": [],
   "source": [
    "#---------- for python2\n",
    "from __future__ import print_function\n",
    "from __future__ import division"
   ]
  },
  {
   "cell_type": "code",
   "execution_count": null,
   "metadata": {
    "collapsed": true
   },
   "outputs": [],
   "source": [
    "#---------- import\n",
    "import pickle\n",
    "\n",
    "import matplotlib.pyplot as plt\n",
    "import numpy as np\n",
    "import pandas as pd\n",
    "\n",
    "%matplotlib inline"
   ]
  },
  {
   "cell_type": "code",
   "execution_count": null,
   "metadata": {
    "collapsed": true
   },
   "outputs": [],
   "source": [
    "#---------- setting for plot\n",
    "plt.rcParams['pdf.fonttype'] = 42 # Type42はpdfにフォント埋め込み可能"
   ]
  },
  {
   "cell_type": "code",
   "execution_count": null,
   "metadata": {
    "collapsed": true
   },
   "outputs": [],
   "source": [
    "#---------- If you don't use seaborn, comment out this cell\n",
    "import seaborn as sns\n",
    "sns.set_style('whitegrid', {'axes.edgecolor': 'black', 'axes.linewidth': 1.5})\n",
    "sns.set_context('talk', font_scale=2.0)\n",
    "#sns.set_palette('deep')\n",
    "sns.set_palette(\"dark\")"
   ]
  },
  {
   "cell_type": "markdown",
   "metadata": {},
   "source": [
    "## Data"
   ]
  },
  {
   "cell_type": "code",
   "execution_count": null,
   "metadata": {
    "collapsed": false
   },
   "outputs": [],
   "source": [
    "def load_rslt():\n",
    "    with open('./pkl_data/rslt_data.pkl', 'rb') as rdata:\n",
    "        rslt_data = pickle.load(rdata)\n",
    "    return rslt_data"
   ]
  },
  {
   "cell_type": "code",
   "execution_count": null,
   "metadata": {
    "collapsed": false
   },
   "outputs": [],
   "source": [
    "rslt_data = load_rslt()\n",
    "\n",
    "#---------- sort by Energy\n",
    "rslt_data.sort_values(by=['Energy']).head(10)"
   ]
  },
  {
   "cell_type": "code",
   "execution_count": null,
   "metadata": {
    "collapsed": false
   },
   "outputs": [],
   "source": [
    "#---------- Number of structures\n",
    "ndata = len(rslt_data)\n",
    "print('Number of data: {}'.format(ndata))\n",
    "\n",
    "#---------- check success and error\n",
    "nsuccess = rslt_data['Energy'].count()\n",
    "nerror = ndata - nsuccess\n",
    "print('Success: {}'.format(nsuccess))\n",
    "print('Error: {}'.format(nerror))\n",
    "\n",
    "#---------- minimum\n",
    "Emin = rslt_data['Energy'].min()\n",
    "print('Emin: {} eV'.format(Emin))\n",
    "\n",
    "#---------- magmom (absolute value)\n",
    "magmom = np.abs(rslt_data['Magmom'])\n",
    "magmax = magmom.max()"
   ]
  },
  {
   "cell_type": "markdown",
   "metadata": {},
   "source": [
    "## Energy"
   ]
  },
  {
   "cell_type": "code",
   "execution_count": null,
   "metadata": {
    "collapsed": false
   },
   "outputs": [],
   "source": [
    "#---------- axis\n",
    "plt.xlim([-2, ndata+2])\n",
    "plt.ylim([-1, 20])\n",
    "\n",
    "#---------- hline at zero\n",
    "plt.hlines(0.0, -2, 5000, 'k', '--')\n",
    "\n",
    "#---------- plot\n",
    "plt.plot(rslt_data['Struc_ID'],  rslt_data['Energy'] - Emin, 'ob', ms=16, mew=2.0, alpha=0.7)\n",
    "\n",
    "#---------- title and label\n",
    "#plt.title('Random search for Si$_{8}$')\n",
    "plt.xlabel('Number of trials')\n",
    "plt.ylabel('Energy (eV/cell)')\n",
    "\n",
    "#---------- save figure\n",
    "#plt.savefig('Si8_RS.png', bbox_inches='tight')                     # PNG\n",
    "#plt.savefig('Si8_RS.png', bbox_inches='tight', dpi=300)    # high dpi PNG\n",
    "#plt.savefig('Si8_RS.pdf', bbox_inches='tight')                     # PDF"
   ]
  },
  {
   "cell_type": "markdown",
   "metadata": {},
   "source": [
    "## Energy vs Magmom"
   ]
  },
  {
   "cell_type": "code",
   "execution_count": null,
   "metadata": {
    "collapsed": false,
    "scrolled": false
   },
   "outputs": [],
   "source": [
    "#---------- plot\n",
    "plt.xlim([0, magmax+2])\n",
    "plt.ylim([-5, 30])\n",
    "\n",
    "plt.plot(magmom, rslt_data['Energy'] - Emin, 'ob', ms=15, mew=1.5, alpha=0.5)\n",
    "\n",
    "#---------- title and label\n",
    "plt.title('Random search for Y$_2$Co$_{17}$')\n",
    "plt.xlabel('Magnetic moment ($\\mu_\\mathrm{B}$/cell)')\n",
    "plt.ylabel('Energy (eV/cell)')\n",
    "\n",
    "#---------- save figure\n",
    "#plt.savefig('Y2Co17_E_mag.png', bbox_inches='tight')                    # PNG\n",
    "#plt.savefig('Y2Co17_E_mag.pdf', bbox_inches='tight', dpi=300)    # high dpi\n",
    "#plt.savefig('Y2Co17_E_mag.png', bbox_inches='tight')                    # PDF"
   ]
  }
 ],
 "metadata": {
  "anaconda-cloud": {},
  "kernelspec": {
   "display_name": "Python [default]",
   "language": "python",
   "name": "python2"
  },
  "language_info": {
   "codemirror_mode": {
    "name": "ipython",
    "version": 2
   },
   "file_extension": ".py",
   "mimetype": "text/x-python",
   "name": "python",
   "nbconvert_exporter": "python",
   "pygments_lexer": "ipython2",
   "version": "2.7.12"
  },
  "toc": {
   "colors": {
    "hover_highlight": "#DAA520",
    "navigate_num": "#000000",
    "navigate_text": "#333333",
    "running_highlight": "#FF0000",
    "selected_highlight": "#FFD700",
    "sidebar_border": "#EEEEEE",
    "wrapper_background": "#FFFFFF"
   },
   "moveMenuLeft": true,
   "nav_menu": {
    "height": "84px",
    "width": "252px"
   },
   "navigate_menu": true,
   "number_sections": true,
   "sideBar": true,
   "threshold": 4,
   "toc_cell": false,
   "toc_section_display": "block",
   "toc_window_display": false,
   "widenNotebook": false
  }
 },
 "nbformat": 4,
 "nbformat_minor": 0
}
