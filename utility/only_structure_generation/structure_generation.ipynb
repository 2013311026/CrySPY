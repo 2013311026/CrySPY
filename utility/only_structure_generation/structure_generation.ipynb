{
 "cells": [
  {
   "cell_type": "markdown",
   "metadata": {},
   "source": [
    "You can generate crystal structures for a given chemical composition partly using CrySPY  \n",
    "(Here no CSP, only structure generation)  \n",
    "\n",
    "See the document of CrySPY for details of arguments  \n",
    "https://tomoki-yamashita.github.io/CrySPY/input_file.html"
   ]
  },
  {
   "cell_type": "markdown",
   "metadata": {},
   "source": [
    "# Import"
   ]
  },
  {
   "cell_type": "code",
   "execution_count": null,
   "metadata": {},
   "outputs": [],
   "source": [
    "from __future__ import print_function"
   ]
  },
  {
   "cell_type": "code",
   "execution_count": null,
   "metadata": {},
   "outputs": [],
   "source": [
    "# ---------- set the path of your CrySPY\n",
    "#            check /your_cryspy_path/CrySPY/gen_struc\n",
    "import sys\n",
    "sys.path.append('/Users/yamashita06/Dropbox/research/program/CSP/CrySPY/CrySPY_git/CrySPY')"
   ]
  },
  {
   "cell_type": "code",
   "execution_count": null,
   "metadata": {},
   "outputs": [],
   "source": [
    "import gen_struc as gs"
   ]
  },
  {
   "cell_type": "code",
   "execution_count": null,
   "metadata": {},
   "outputs": [],
   "source": [
    "# ---------- for data preparetin in EA\n",
    "import pickle"
   ]
  },
  {
   "cell_type": "markdown",
   "metadata": {},
   "source": [
    "# Random structure generation"
   ]
  },
  {
   "cell_type": "markdown",
   "metadata": {},
   "source": [
    "## Rnd_struc_gen class  \n",
    "Rnd_struc_gen(natot, atype, nat, minlen, maxlen, dangle, mindist, maxcnt=200, symprec=0.001)  \n",
    "\n",
    "There are two ways  \n",
    "  1) with space group infromation (symmetry)  \n",
    "  2) without space gruop information"
   ]
  },
  {
   "cell_type": "code",
   "execution_count": null,
   "metadata": {},
   "outputs": [],
   "source": [
    "# ---------- example of Si4O8\n",
    "natot = 12\n",
    "atype = ['Si', 'O']\n",
    "nat = [4, 8]\n",
    "minlen = 4\n",
    "maxlen = 10\n",
    "dangle = 20.0\n",
    "mindist = [[1.8, 1.3],\n",
    "           [1.3, 1.5]]"
   ]
  },
  {
   "cell_type": "code",
   "execution_count": null,
   "metadata": {},
   "outputs": [],
   "source": [
    "# ---------- instantiate Rnd_struc_gen class\n",
    "rsg = gs.random.Rnd_struc_gen(natot, atype, nat, minlen, maxlen, dangle, mindist)"
   ]
  },
  {
   "cell_type": "markdown",
   "metadata": {},
   "source": [
    "## When you use space group information (symmetry) for structure generation\n",
    "\n",
    "find_wy program is required  \n",
    "tmp_gen_struc directory is temporaryly made in the current directory"
   ]
  },
  {
   "cell_type": "code",
   "execution_count": null,
   "metadata": {},
   "outputs": [],
   "source": [
    "# ---------- setting \n",
    "nstruc = 5                    # number of structures\n",
    "spgnum = 'all'                # all space gruop (default: all)\n",
    "# spgnum = [100, 150]         # if you want to use only space group 100 and 150\n",
    "id_offset = 0                 # Structure ID starts from id_offset (default: 0)\n",
    "#init_pos_path = None         # if you specify a file path,\n",
    "init_pos_path = './POSCARS'   #    structure data in POSCAR format are written in the file\n",
    "                              #    you can open this file using VESTA"
   ]
  },
  {
   "cell_type": "code",
   "execution_count": null,
   "metadata": {},
   "outputs": [],
   "source": [
    "# ---------- path of find_wy\n",
    "fwpath = '/Users/yamashita06/local/src/find_wy/find_wy'"
   ]
  },
  {
   "cell_type": "code",
   "execution_count": null,
   "metadata": {},
   "outputs": [],
   "source": [
    "# ---------- generate structure\n",
    "rsg.gen_with_spg(nstruc, spgnum, id_offset, init_pos_path, fwpath=fwpath)"
   ]
  },
  {
   "cell_type": "markdown",
   "metadata": {},
   "source": [
    "You can access generated structure data to see rsg.init_struc_data  \n",
    "rsg.init_sturc_data is dict type like {0: struc_data_0, 1: struc_data_1, ... , ID: struc_data_ID}"
   ]
  },
  {
   "cell_type": "code",
   "execution_count": null,
   "metadata": {},
   "outputs": [],
   "source": [
    "# ---------- e.g. ID 0\n",
    "rsg.init_struc_data[0]"
   ]
  },
  {
   "cell_type": "markdown",
   "metadata": {},
   "source": [
    "## When you DO NOT use space group information (symmetry) for structure generation\n",
    "\n",
    "find_wy program is NOT required  "
   ]
  },
  {
   "cell_type": "code",
   "execution_count": null,
   "metadata": {},
   "outputs": [],
   "source": [
    "# ---------- setting \n",
    "nstruc = 5                    # number of structures you will generate\n",
    "spgnum = 0                    # no symmetry\n",
    "id_offset = 0                 # Structure ID starts from id_offset (default: 0)\n",
    "#init_pos_path = None         # if you specify a file path,\n",
    "init_pos_path = './POSCARS'   #    structure data in POSCAR format are written in the file\n",
    "                              #    you can open this file using VESTA"
   ]
  },
  {
   "cell_type": "code",
   "execution_count": null,
   "metadata": {},
   "outputs": [],
   "source": [
    "# ---------- generate structure\n",
    "rsg.gen_wo_spg(nstruc, id_offset, init_pos_path)"
   ]
  },
  {
   "cell_type": "markdown",
   "metadata": {},
   "source": [
    "You can access generated structure data to see rsg.init_struc_data  \n",
    "rsg.init_sturc_data is dict type like {0: struc_data_0, 1: struc_data_1, ... , ID: struc_data_ID}"
   ]
  },
  {
   "cell_type": "code",
   "execution_count": null,
   "metadata": {},
   "outputs": [],
   "source": [
    "# ---------- e.g. ID 3\n",
    "rsg.init_struc_data[3]"
   ]
  },
  {
   "cell_type": "markdown",
   "metadata": {},
   "source": [
    "# Structure generation by EA\n",
    "Here, let us use sample data of Si16 as parent data\n",
    "\n",
    "Si16, 10 structures"
   ]
  },
  {
   "cell_type": "markdown",
   "metadata": {},
   "source": [
    "## Load parent data"
   ]
  },
  {
   "cell_type": "code",
   "execution_count": null,
   "metadata": {},
   "outputs": [],
   "source": [
    "def load_pkl(filename):\n",
    "    with open(filename, 'rb') as f:\n",
    "        pkl_data = pickle.load(f)\n",
    "    return pkl_data"
   ]
  },
  {
   "cell_type": "code",
   "execution_count": null,
   "metadata": {},
   "outputs": [],
   "source": [
    "# ---------- load optimized structure data\n",
    "opt_struc_data = load_pkl('./sample_data_Si16/opt_struc_data.pkl')"
   ]
  },
  {
   "cell_type": "code",
   "execution_count": null,
   "metadata": {},
   "outputs": [],
   "source": [
    "# ---------- load rslt_data for energy datta of parent structure\n",
    "rslt_data = load_pkl('./sample_data_Si16/rslt_data.pkl')\n",
    "rslt_data    # pandas DataFrame"
   ]
  },
  {
   "cell_type": "code",
   "execution_count": null,
   "metadata": {},
   "outputs": [],
   "source": [
    "# ---------- get energy data as dict: key is structure ID\n",
    "fitness = dict(zip(rslt_data['Struc_ID'].values, rslt_data['Energy'].values))"
   ]
  },
  {
   "cell_type": "code",
   "execution_count": null,
   "metadata": {},
   "outputs": [],
   "source": [
    "fitness"
   ]
  },
  {
   "cell_type": "markdown",
   "metadata": {},
   "source": [
    "If you fail to load the \"rslt_data.pkle\" file owing to difference version of pandas or something,  \n",
    "use the following cell"
   ]
  },
  {
   "cell_type": "code",
   "execution_count": null,
   "metadata": {},
   "outputs": [],
   "source": [
    "# fitness = {\n",
    "#  0: -67.302877312801,\n",
    "#  1: -64.98995856317622,\n",
    "#  2: -62.044391121520356,\n",
    "#  3: -64.9899614176506,\n",
    "#  4: -62.05936739490061,\n",
    "#  5: -61.439897269638045,\n",
    "#  6: -63.593619764605805,\n",
    "#  7: -63.90257519925848,\n",
    "#  8: -65.12751185011778,\n",
    "#  9: -62.35235718827326}"
   ]
  },
  {
   "cell_type": "markdown",
   "metadata": {},
   "source": [
    "## Select parents\n",
    "There are two ways:  \n",
    "  1) Tournament selection  \n",
    "  2) Roulette selection  \n",
    "\n",
    "Here let us try tournament selection"
   ]
  },
  {
   "cell_type": "code",
   "execution_count": null,
   "metadata": {},
   "outputs": [],
   "source": [
    "# ---------- setting\n",
    "elite_struc = None     # You can add additional parents,\n",
    "elite_fitness = None   #     if you add elite_struc and elite fitness\n",
    "fit_reverse = False    # False means minimum search\n",
    "n_fittest = 5          # number of survival of the fittest"
   ]
  },
  {
   "cell_type": "code",
   "execution_count": null,
   "metadata": {},
   "outputs": [],
   "source": [
    "# ---------- instantiate Select_parents class\n",
    "sp = gs.EA.Select_parents(opt_struc_data, fitness, elite_struc, elite_fitness,\n",
    "                          fit_reverse, n_fittest)"
   ]
  },
  {
   "cell_type": "markdown",
   "metadata": {},
   "source": [
    "In this setting stable 5 (=n_fittest) structures can become candidates to be selected  \n",
    "You can check survivors"
   ]
  },
  {
   "cell_type": "code",
   "execution_count": null,
   "metadata": {},
   "outputs": [],
   "source": [
    "# ---------- top 5 structures\n",
    "sp.ranking_dedupe"
   ]
  },
  {
   "cell_type": "code",
   "execution_count": null,
   "metadata": {},
   "outputs": [],
   "source": [
    "# ---------- setting for tournament selection\n",
    "t_size = 2\n",
    "sp.set_tournament(t_size)"
   ]
  },
  {
   "cell_type": "markdown",
   "metadata": {},
   "source": [
    "## Generate offspring"
   ]
  },
  {
   "cell_type": "code",
   "execution_count": null,
   "metadata": {},
   "outputs": [],
   "source": [
    "# ---------- setting\n",
    "symprec = 0.001  # precision for symmetry (default: 0.001)\n",
    "id_start = 10    # next structure ID (here we already have up to 9)\n",
    "init_pos_path = './POSCARS'"
   ]
  },
  {
   "cell_type": "code",
   "execution_count": null,
   "metadata": {},
   "outputs": [],
   "source": [
    "# ---------- instantiate EA_generation class\n",
    "eagen = gs.EA.EA_generation(sp, symprec, id_start, init_pos_path)"
   ]
  },
  {
   "cell_type": "code",
   "execution_count": null,
   "metadata": {},
   "outputs": [],
   "source": [
    "# --------- setting for crossover and strain\n",
    "atype = ['Si']\n",
    "nat = [16]\n",
    "mindist = [[1.5]]\n",
    "maxcnt_ea = 100    # default value"
   ]
  },
  {
   "cell_type": "markdown",
   "metadata": {},
   "source": [
    "## Crossover\n",
    "Let us make 5 structures by crosover operation"
   ]
  },
  {
   "cell_type": "code",
   "execution_count": null,
   "metadata": {},
   "outputs": [],
   "source": [
    "# ---------- setting for crossover\n",
    "crs_lat = 'equal'    # 'eaual' or 'random'\n",
    "crs_func = 'OP'      # one point crossover or two point crossover (TP)\n",
    "nat_diff_tole = 4    # default"
   ]
  },
  {
   "cell_type": "code",
   "execution_count": null,
   "metadata": {},
   "outputs": [],
   "source": [
    "# ---------- instantiate Crossover class\n",
    "co = gs.EA.Crossover(atype, nat, mindist, crs_lat, crs_func,\n",
    "               nat_diff_tole, maxcnt_ea)"
   ]
  },
  {
   "cell_type": "code",
   "execution_count": null,
   "metadata": {},
   "outputs": [],
   "source": [
    "# ---------- generate\n",
    "eagen.gen_crossover(n_crsov=5, co=co)"
   ]
  },
  {
   "cell_type": "markdown",
   "metadata": {},
   "source": [
    "You can see generated structue data in eagen.offspring (dict)"
   ]
  },
  {
   "cell_type": "code",
   "execution_count": null,
   "metadata": {},
   "outputs": [],
   "source": [
    "# ---------- e.g. ID 13\n",
    "eagen.offspring[13]"
   ]
  },
  {
   "cell_type": "markdown",
   "metadata": {},
   "source": [
    "## Permutation\n",
    "we skip permutaion because of one element system"
   ]
  },
  {
   "cell_type": "code",
   "execution_count": null,
   "metadata": {},
   "outputs": [],
   "source": [
    "# # ---------- setting\n",
    "# n_times = 1    # default"
   ]
  },
  {
   "cell_type": "code",
   "execution_count": null,
   "metadata": {},
   "outputs": [],
   "source": [
    "# # ---------- instantiate Permutation class\n",
    "# pm = gs.EA.Permutation(atype, mindist, ntimes, maxcnt_ea)"
   ]
  },
  {
   "cell_type": "code",
   "execution_count": null,
   "metadata": {},
   "outputs": [],
   "source": [
    "#eagen.gen_permutation(nperm=4, pm=pm)"
   ]
  },
  {
   "cell_type": "markdown",
   "metadata": {},
   "source": [
    "## Strain\n",
    "Let us make 5 structures by strain"
   ]
  },
  {
   "cell_type": "code",
   "execution_count": null,
   "metadata": {},
   "outputs": [],
   "source": [
    "# ---------- setting for strain\n",
    "sigma_st = 0.5    # Standard deviation for strain"
   ]
  },
  {
   "cell_type": "code",
   "execution_count": null,
   "metadata": {},
   "outputs": [],
   "source": [
    "# ---------- instantiate Strain class\n",
    "st = gs.EA.Strain(atype, mindist, sigma_st, maxcnt_ea)"
   ]
  },
  {
   "cell_type": "code",
   "execution_count": null,
   "metadata": {},
   "outputs": [],
   "source": [
    "# ---------- generate\n",
    "eagen.gen_strain(n_strain=5, st=st)"
   ]
  },
  {
   "cell_type": "markdown",
   "metadata": {},
   "source": [
    "You can see generated structue data in eagen.offspring (dict)"
   ]
  }
 ],
 "metadata": {
  "kernelspec": {
   "display_name": "Python 2",
   "language": "python",
   "name": "python2"
  },
  "language_info": {
   "codemirror_mode": {
    "name": "ipython",
    "version": 2
   },
   "file_extension": ".py",
   "mimetype": "text/x-python",
   "name": "python",
   "nbconvert_exporter": "python",
   "pygments_lexer": "ipython2",
   "version": "2.7.12"
  },
  "toc": {
   "nav_menu": {},
   "number_sections": true,
   "sideBar": true,
   "skip_h1_title": false,
   "toc_cell": false,
   "toc_position": {},
   "toc_section_display": true,
   "toc_window_display": false
  },
  "varInspector": {
   "cols": {
    "lenName": 16,
    "lenType": 16,
    "lenVar": 40
   },
   "kernels_config": {
    "python": {
     "delete_cmd_postfix": "",
     "delete_cmd_prefix": "del ",
     "library": "var_list.py",
     "varRefreshCmd": "print(var_dic_list())"
    },
    "r": {
     "delete_cmd_postfix": ") ",
     "delete_cmd_prefix": "rm(",
     "library": "var_list.r",
     "varRefreshCmd": "cat(var_dic_list()) "
    }
   },
   "types_to_exclude": [
    "module",
    "function",
    "builtin_function_or_method",
    "instance",
    "_Feature"
   ],
   "window_display": false
  }
 },
 "nbformat": 4,
 "nbformat_minor": 2
}
