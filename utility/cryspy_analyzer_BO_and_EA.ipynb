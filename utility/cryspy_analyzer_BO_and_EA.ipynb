{
 "cells": [
  {
   "cell_type": "markdown",
   "metadata": {},
   "source": [
    "# Import and setting"
   ]
  },
  {
   "cell_type": "code",
   "execution_count": null,
   "metadata": {},
   "outputs": [],
   "source": [
    "!pwd"
   ]
  },
  {
   "cell_type": "code",
   "execution_count": null,
   "metadata": {
    "collapsed": true
   },
   "outputs": [],
   "source": [
    "# ---------- for python2\n",
    "from __future__ import print_function\n",
    "from __future__ import division"
   ]
  },
  {
   "cell_type": "code",
   "execution_count": null,
   "metadata": {
    "collapsed": true
   },
   "outputs": [],
   "source": [
    "# ---------- import\n",
    "import pickle\n",
    "\n",
    "import matplotlib as mpl\n",
    "import matplotlib.pyplot as plt\n",
    "import numpy as np\n",
    "import pandas as pd\n",
    "\n",
    "%matplotlib inline"
   ]
  },
  {
   "cell_type": "code",
   "execution_count": null,
   "metadata": {
    "collapsed": true
   },
   "outputs": [],
   "source": [
    "# ---------- figure\n",
    "mpl.rcParams['figure.figsize'] =[8, 6]\n",
    "\n",
    "# ---------- axes\n",
    "mpl.rc('axes', linewidth=1.5, grid=True)\n",
    "\n",
    "# ---------- ticks\n",
    "plt.rcParams['xtick.direction'] = 'in'\n",
    "plt.rcParams['ytick.direction'] = 'in'\n",
    "mpl.rc('xtick.major', width=1.0, size=8.0)\n",
    "mpl.rc('ytick.major', width=1.0, size=8.0)\n",
    "\n",
    "# ---------- lines\n",
    "mpl.rcParams['lines.linewidth'] = 2.5\n",
    "\n",
    "# ---------- grid\n",
    "mpl.rcParams['grid.linestyle'] = ':'\n",
    "\n",
    "# ---------- font\n",
    "mpl.rcParams['font.size'] = 20\n",
    "mpl.rcParams['pdf.fonttype'] = 42    # embed fonts in PDF using type42 (True type)"
   ]
  },
  {
   "cell_type": "markdown",
   "metadata": {},
   "source": [
    "# Data"
   ]
  },
  {
   "cell_type": "code",
   "execution_count": null,
   "metadata": {
    "collapsed": true
   },
   "outputs": [],
   "source": [
    "def load_pkl(filename):\n",
    "    with open(filename, 'rb') as f:\n",
    "        return pickle.load(f)"
   ]
  },
  {
   "cell_type": "code",
   "execution_count": null,
   "metadata": {},
   "outputs": [],
   "source": [
    "rslt_data = load_pkl('./pkl_data/rslt_data.pkl')\n",
    "\n",
    "# ---------- sort by Generation\n",
    "#rslt_data.head(10)\n",
    "\n",
    "# ---------- sort by Energy\n",
    "rslt_data.sort_values(by=['Energy']).head(10)"
   ]
  },
  {
   "cell_type": "code",
   "execution_count": null,
   "metadata": {},
   "outputs": [],
   "source": [
    "# ---------- Generation\n",
    "gmax = rslt_data['Gen'].max()\n",
    "print('Number of generation: {}'.format(gmax))\n",
    "\n",
    "# ---------- Number of structures\n",
    "ndata = len(rslt_data)\n",
    "print('Number of data: {}'.format(ndata))\n",
    "\n",
    "# ---------- check success and error\n",
    "nsuccess = rslt_data['Energy'].count()\n",
    "nerror = ndata - nsuccess\n",
    "print('Success: {}'.format(nsuccess))\n",
    "print('Error: {}'.format(nerror))\n",
    "\n",
    "# ---------- minimum\n",
    "Emin = rslt_data['Energy'].min()\n",
    "print('Emin: {} eV'.format(Emin))\n",
    "\n",
    "# ---------- magmom (absolute value)\n",
    "magmom = np.abs(rslt_data['Magmom'])\n",
    "magmax = magmom.max()"
   ]
  },
  {
   "cell_type": "markdown",
   "metadata": {},
   "source": [
    "# Energy vs. trial"
   ]
  },
  {
   "cell_type": "code",
   "execution_count": null,
   "metadata": {},
   "outputs": [],
   "source": [
    "# ---------- axis\n",
    "dx = 10\n",
    "plt.xlim([-dx, ndata+dx])\n",
    "plt.ylim([-2, 20])\n",
    "\n",
    "# ---------- hline at zero\n",
    "plt.hlines(0.0, -2, 5000, 'k', '--')\n",
    "\n",
    "# ----------color coded by generation  \n",
    "tx = 0\n",
    "for g in range(1, gmax+1):\n",
    "    gfilter = rslt_data['Gen'] == g\n",
    "    num = len(rslt_data[gfilter])\n",
    "    x = np.arange(1, num+1) + tx\n",
    "    plt.plot(x, rslt_data['Energy'][gfilter] - Emin, 'o', ms=15, mew=2.0, alpha=0.6)\n",
    "    tx += num\n",
    "\n",
    "# ---------- title and label\n",
    "plt.title('Bayesian optimizaiton for Si$_{16}$')\n",
    "plt.xlabel('Number of trials')\n",
    "plt.ylabel('Energy (eV/cell)')\n",
    "\n",
    "# ---------- save figure\n",
    "#plt.savefig('Si16_BO.png', bbox_inches='tight')    # PNG\n",
    "#plt.savefig('Si16_BO.png', bbox_inches='tight', dpi=300)    # PNG high dpi\n",
    "#plt.savefig('Si16_BO.pdf', bbox_inches='tight')    # PDF"
   ]
  },
  {
   "cell_type": "markdown",
   "metadata": {},
   "source": [
    "# Energy vs. Magmom"
   ]
  },
  {
   "cell_type": "code",
   "execution_count": null,
   "metadata": {},
   "outputs": [],
   "source": [
    "# ---------- plot\n",
    "dx = 2\n",
    "plt.xlim([-dx, magmax+dx])\n",
    "plt.ylim([-5, 30])\n",
    "\n",
    "plt.plot(magmom, rslt_data['Energy'] - Emin, 'ob', ms=16, mew=2.0, alpha=0.7)\n",
    "\n",
    "# ---------- title and label\n",
    "plt.title('Random search for Y$_2$Co$_{17}$')\n",
    "plt.xlabel('Magnetic moment ($\\mu_\\mathrm{B}$/cell)')\n",
    "plt.ylabel('Energy (eV/cell)')\n",
    "\n",
    "# ---------- save figure\n",
    "#plt.savefig('Y2Co17_E_mag.png', bbox_inches='tight')    # PNG\n",
    "#plt.savefig('Y2Co17_E_mag.png, bbox_inches='tight', dpi=300)    # PNG high dpi\n",
    "#plt.savefig('Y2Co17_E_mag.pdf', bbox_inches='tight')    # pdf"
   ]
  }
 ],
 "metadata": {
  "anaconda-cloud": {},
  "kernelspec": {
   "display_name": "Python 2",
   "language": "python",
   "name": "python2"
  },
  "language_info": {
   "codemirror_mode": {
    "name": "ipython",
    "version": 2
   },
   "file_extension": ".py",
   "mimetype": "text/x-python",
   "name": "python",
   "nbconvert_exporter": "python",
   "pygments_lexer": "ipython2",
   "version": "2.7.12"
  },
  "toc": {
   "nav_menu": {
    "height": "84px",
    "width": "252px"
   },
   "number_sections": true,
   "sideBar": true,
   "skip_h1_title": false,
   "toc_cell": false,
   "toc_position": {},
   "toc_section_display": "block",
   "toc_window_display": true
  }
 },
 "nbformat": 4,
 "nbformat_minor": 1
}
