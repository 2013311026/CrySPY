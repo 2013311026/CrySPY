{
 "cells": [
  {
   "cell_type": "markdown",
   "metadata": {},
   "source": [
    "# Import and setting"
   ]
  },
  {
   "cell_type": "code",
   "execution_count": null,
   "metadata": {},
   "outputs": [],
   "source": [
    "!pwd"
   ]
  },
  {
   "cell_type": "code",
   "execution_count": null,
   "metadata": {},
   "outputs": [],
   "source": [
    "#---------- for python2\n",
    "from __future__ import print_function\n",
    "from __future__ import division"
   ]
  },
  {
   "cell_type": "code",
   "execution_count": null,
   "metadata": {},
   "outputs": [],
   "source": [
    "#---------- import\n",
    "import gzip\n",
    "import pickle\n",
    "\n",
    "import matplotlib as mpl\n",
    "import matplotlib.pyplot as plt\n",
    "from matplotlib.ticker import MultipleLocator\n",
    "from matplotlib.animation import FuncAnimation\n",
    "import numpy as np\n",
    "\n",
    "%matplotlib inline"
   ]
  },
  {
   "cell_type": "code",
   "execution_count": null,
   "metadata": {},
   "outputs": [],
   "source": [
    "# ---------- figure\n",
    "mpl.rcParams['figure.figsize'] =[8, 6]\n",
    "\n",
    "# ---------- axes\n",
    "mpl.rc('axes', linewidth=1.5, grid=True)\n",
    "\n",
    "# ---------- ticks\n",
    "plt.rcParams['xtick.direction'] = 'in'\n",
    "plt.rcParams['ytick.direction'] = 'in'\n",
    "mpl.rc('xtick.major', width=1.0, size=8.0)\n",
    "mpl.rc('ytick.major', width=1.0, size=8.0)\n",
    "\n",
    "# ---------- lines\n",
    "mpl.rcParams['lines.linewidth'] = 2.5\n",
    "\n",
    "# ---------- grid\n",
    "mpl.rcParams['grid.linestyle'] = ':'\n",
    "\n",
    "# ---------- font\n",
    "mpl.rcParams['font.size'] = 16\n",
    "mpl.rcParams['pdf.fonttype'] = 42    # embed fonts in PDF using type42 (True type)"
   ]
  },
  {
   "cell_type": "markdown",
   "metadata": {},
   "source": [
    "# Load data"
   ]
  },
  {
   "cell_type": "code",
   "execution_count": null,
   "metadata": {},
   "outputs": [],
   "source": [
    "with open('./pkl_data/rslt_data.pkl', 'rb') as f:\n",
    "        rslt_data = pickle.load(f)"
   ]
  },
  {
   "cell_type": "code",
   "execution_count": null,
   "metadata": {},
   "outputs": [],
   "source": [
    "with open('./pkl_data/LAQA_id_data.pkl', 'rb') as f:\n",
    "        id_to_calc, id_select_hist, id_done = pickle.load(f)"
   ]
  },
  {
   "cell_type": "code",
   "execution_count": null,
   "metadata": {},
   "outputs": [],
   "source": [
    "with open('./pkl_data/LAQA_data.pkl', 'rb') as f:\n",
    "        total_step, LAQA_step, LAQA_struc, LAQA_energy, LAQA_bias, LAQA_score = pickle.load(f)"
   ]
  },
  {
   "cell_type": "code",
   "execution_count": null,
   "metadata": {},
   "outputs": [],
   "source": [
    "#  ---------- If you used gzip\n",
    "with gzip.open('./pkl_data/LAQA_data.pkl.gz', 'rb') as f:\n",
    "        total_step, LAQA_step, LAQA_struc, LAQA_energy, LAQA_bias, LAQA_score = pickle.load(f)"
   ]
  },
  {
   "cell_type": "markdown",
   "metadata": {},
   "source": [
    "# Results"
   ]
  },
  {
   "cell_type": "markdown",
   "metadata": {},
   "source": [
    "## cryspy_rslt"
   ]
  },
  {
   "cell_type": "code",
   "execution_count": null,
   "metadata": {},
   "outputs": [],
   "source": [
    "# ---------- top 10\n",
    "rslt_data.sort_values(by=['Energy']).head(10)"
   ]
  },
  {
   "cell_type": "code",
   "execution_count": null,
   "metadata": {},
   "outputs": [],
   "source": [
    "stable_IDs = [13, 91, 48]    # manual input"
   ]
  },
  {
   "cell_type": "markdown",
   "metadata": {},
   "source": [
    "## Required optimization steps"
   ]
  },
  {
   "cell_type": "code",
   "execution_count": null,
   "metadata": {},
   "outputs": [],
   "source": [
    "# only completed structures\n",
    "req_step = {}\n",
    "tot_req_step = 0\n",
    "for cID in range(len(LAQA_step)):\n",
    "    if cID in id_done:\n",
    "        req_step[cID] = sum(LAQA_step[cID])\n",
    "        tot_req_step += sum(LAQA_step[cID])"
   ]
  },
  {
   "cell_type": "code",
   "execution_count": null,
   "metadata": {},
   "outputs": [],
   "source": [
    "print('Total optimization steps:', sum(total_step))\n",
    "print('Number of completed structures:', len(req_step))\n",
    "print('Average number of optimization steps:', tot_req_step/len(req_step))"
   ]
  },
  {
   "cell_type": "code",
   "execution_count": null,
   "metadata": {},
   "outputs": [],
   "source": [
    "for cid in stable_IDs:    # input 'stable_IDs' in an upper cell\n",
    "    print('\\nFor ID {}'.format(cid))\n",
    "    for i, ids in enumerate(id_select_hist):\n",
    "        if cid in ids:\n",
    "            print('    Selection {}'.format(i+1))\n",
    "    if cid in id_done:\n",
    "        print('Opt. finished. # of steps ID {} is {}'.format(cid, sum(LAQA_step[cid])))\n",
    "    else:\n",
    "        print('Error')"
   ]
  },
  {
   "cell_type": "code",
   "execution_count": null,
   "metadata": {},
   "outputs": [],
   "source": [
    "# ---------- total number of steps up to selection xxx\n",
    "nselect = range(10)\n",
    "#nselect = [0, 1, 31]\n",
    "print('Total number of steps')\n",
    "for n in nselect:\n",
    "    print('Selection {}: {}'.format(n, sum(total_step[:n+1])))"
   ]
  },
  {
   "cell_type": "markdown",
   "metadata": {},
   "source": [
    "## Energy vs. step for png figure"
   ]
  },
  {
   "cell_type": "code",
   "execution_count": null,
   "metadata": {},
   "outputs": [],
   "source": [
    "# ---------- figsize\n",
    "plt.figure(figsize=(10, 6))\n",
    "\n",
    "# ---------- axes and ticks\n",
    "# ------ x axis\n",
    "plt.xlim([20, 280])\n",
    "major_x = MultipleLocator(40)\n",
    "minor_x = MultipleLocator(20)\n",
    "plt.gca().xaxis.set_major_locator(major_x)\n",
    "plt.gca().xaxis.set_minor_locator(minor_x)\n",
    "# ------ yaxis\n",
    "plt.ylim([-5.5, -4])\n",
    "# ---------- gird\n",
    "plt.grid(which='minor')    # grid: major --> minor\n",
    "\n",
    "# ---------- title and label\n",
    "plt.title('LAQA for Si$_{16} (c = 1.0)$ ')\n",
    "plt.xlabel('Number of step')\n",
    "plt.ylabel('Energy (eV/atom)')\n",
    "plt.tight_layout()\n",
    "\n",
    "# ---------- plot\n",
    "# ------ not stalbe structures\n",
    "for cID in range(len(LAQA_energy)):\n",
    "    if cID == stable_IDs:\n",
    "        pass\n",
    "    else:\n",
    "        plt.plot(np.cumsum(LAQA_step[cID]), LAQA_energy[cID], color='royalblue', linewidth=1.0)\n",
    "# ------ stable structures, bring to front\n",
    "for cID in stable_IDs:\n",
    "    plt.plot(np.cumsum(LAQA_step[cID]), LAQA_energy[cID], color='red')\n",
    "\n",
    "# ---------- save figure\n",
    "plt.savefig('Si16_LAQA_c1.0.png', bbox_inches='tight')    # PNG"
   ]
  },
  {
   "cell_type": "markdown",
   "metadata": {},
   "source": [
    "## Energy gif anime"
   ]
  },
  {
   "cell_type": "code",
   "execution_count": null,
   "metadata": {},
   "outputs": [],
   "source": [
    "# ---------- for animation in jupyter\n",
    "# If you use nbagg, you can see animation on Jupyter\n",
    "# When you want to save the animation, do NOT use %matplotlib nbagg\n",
    "#%matplotlib nbagg\n",
    "#%matplotlib inline\n",
    "\n",
    "# ---------- figure setting\n",
    "fig = plt.figure(figsize=(10, 6))\n",
    "ax = plt.axes()\n",
    "\n",
    "\n",
    "# --------- initialize\n",
    "lines = []\n",
    "xdata = []\n",
    "ydata = []\n",
    "num_select = {}\n",
    "for cID in range(len(LAQA_energy)):\n",
    "    xdata.append([LAQA_step[cID][0]])\n",
    "    ydata.append([LAQA_energy[cID][0]])\n",
    "    num_select[cID] = 0\n",
    "    if cID in stable_IDs:\n",
    "        lines.append(ax.plot([], [], color='red', linewidth=2.0)[0])\n",
    "    else:\n",
    "        lines.append(ax.plot([], [], color='royalblue', linewidth=1.0)[0])\n",
    "\n",
    "def init():\n",
    "    ax.set_xlim([20, 280])\n",
    "    major_x = MultipleLocator(40)\n",
    "    minor_x = MultipleLocator(20)\n",
    "    ax.xaxis.set_major_locator(major_x)\n",
    "    ax.xaxis.set_minor_locator(minor_x)\n",
    "    plt.grid(which='minor')    # grid: major --> minor\n",
    "    ax.set_ylim([-5.5, -4])\n",
    "    plt.title('LAQA for Si$_{16} (c = 1.0)$ ')\n",
    "    ax.set_xlabel('Number of step')\n",
    "    ax.set_ylabel('Energy (eV/atom)')\n",
    "    fig.tight_layout()\n",
    "    return lines\n",
    "\n",
    "# ---------- animate function\n",
    "# frame i --> 0, 1, 2, ...\n",
    "def animate(i):\n",
    "    for cID in id_select_hist[i]:\n",
    "        num_select[cID] += 1\n",
    "        xdata[cID].append(LAQA_step[cID][num_select[cID]])\n",
    "        ydata[cID].append(LAQA_energy[cID][num_select[cID]])\n",
    "        lines[cID].set_data(np.cumsum(xdata[cID]), ydata[cID])\n",
    "    return lines\n",
    "\n",
    "\n",
    "# ---------- call the animator\n",
    "# ------ if the simulation was done\n",
    "#anim = FuncAnimation(fig, animate, init_func=init, frames=len(id_select_hist), interval=100, blit=True)\n",
    "# ------ else, last id list in id_select_hist may not be calculated yet, i.e. remains in id_to_calc\n",
    "anim = FuncAnimation(fig, animate, init_func=init, frames=len(id_select_hist)-1, interval=200, blit=True)"
   ]
  },
  {
   "cell_type": "code",
   "execution_count": null,
   "metadata": {
    "scrolled": true
   },
   "outputs": [],
   "source": [
    "# ---------- save\n",
    "anim.save('Si16_LAQA_c1.0.gif',  writer = 'imagemagick')"
   ]
  },
  {
   "cell_type": "markdown",
   "metadata": {},
   "source": [
    " ![]('./Si16_LAQA_energy_c1.0.gif')"
   ]
  },
  {
   "cell_type": "markdown",
   "metadata": {},
   "source": [
    "Show gif anime  \n",
    "Specify a suitable filename  \n",
    "![](Si16_LAQA_energy_c1.0.gif)"
   ]
  }
 ],
 "metadata": {
  "kernelspec": {
   "display_name": "Python 2",
   "language": "python",
   "name": "python2"
  },
  "language_info": {
   "codemirror_mode": {
    "name": "ipython",
    "version": 2
   },
   "file_extension": ".py",
   "mimetype": "text/x-python",
   "name": "python",
   "nbconvert_exporter": "python",
   "pygments_lexer": "ipython2",
   "version": "2.7.12"
  },
  "toc": {
   "nav_menu": {},
   "number_sections": true,
   "sideBar": true,
   "skip_h1_title": false,
   "toc_cell": false,
   "toc_position": {},
   "toc_section_display": "block",
   "toc_window_display": true
  }
 },
 "nbformat": 4,
 "nbformat_minor": 2
}
